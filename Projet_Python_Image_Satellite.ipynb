{
  "nbformat": 4,
  "nbformat_minor": 0,
  "metadata": {
    "colab": {
      "name": "Projet Python Image Satellite.ipynb",
      "provenance": [],
      "collapsed_sections": [
        "Vd_3gg7RKSD_",
        "XlB3tVnd_s5O",
        "iwNx13y1Bw14"
      ],
      "toc_visible": true
    },
    "kernelspec": {
      "name": "python3",
      "display_name": "Python 3"
    }
  },
  "cells": [
    {
      "cell_type": "markdown",
      "metadata": {
        "id": "wsAoK0fAABwH"
      },
      "source": [
        "# Objectif : Classification de sol par image satellite"
      ]
    },
    {
      "cell_type": "markdown",
      "metadata": {
        "id": "Vd_3gg7RKSD_"
      },
      "source": [
        "# Partie Exploration de la donnée\n",
        "\n",
        "\n",
        "La base de données contient les valeurs multispectrales des pixels d'une image satellite 3x3 pixels"
      ]
    },
    {
      "cell_type": "markdown",
      "metadata": {
        "id": "cFXasRFhMvK3"
      },
      "source": [
        "## I. Compréhension du dataset\n",
        "\n"
      ]
    },
    {
      "cell_type": "markdown",
      "metadata": {
        "id": "af-2uMzKIiIZ"
      },
      "source": [
        "Notre dataset ne contient que des pixels de niveaux\n",
        "de gris qui représentent les valeurs de réflectance des\n",
        "surfaces au sol pour un intervalle de longueurs d’ondes\n",
        "donné\n",
        "\n",
        "Il y a 36 colonnes, chaque image satellite selectionnée pour le dataset fait 3*3 pixels. L'image est prise selon 4 intervalles de longueurs d'onde différentes (ce qu'on appelera par la suite bande spectrale) :\n",
        "  - une proche du vert\n",
        "  - une proche du rouge\n",
        "  - deux proches des infrarouges \n",
        "\n",
        "Ces 4 variantes d'une seule image 3*3 pixels fournissent bien 36 valeurs au total\n",
        "\n"
      ]
    },
    {
      "cell_type": "code",
      "metadata": {
        "id": "p6PSlPxnIKmP"
      },
      "source": [
        "import numpy as np \n",
        "import pandas as pd \n",
        "import matplotlib.pyplot as plt \n",
        "from skimage.io import imshow # visualisation d'images satellite\n",
        "import seaborn as sns"
      ],
      "execution_count": 25,
      "outputs": []
    },
    {
      "cell_type": "code",
      "metadata": {
        "colab": {
          "base_uri": "https://localhost:8080/",
          "height": 439
        },
        "id": "kMYO9FzXIfKd",
        "outputId": "3ea48e2f-faf7-412d-86bd-e5023334414c"
      },
      "source": [
        "satellites_images = pd.read_csv(\"/content/sat_train.csv\", sep=' ')\n",
        "satellites_images"
      ],
      "execution_count": 26,
      "outputs": [
        {
          "output_type": "execute_result",
          "data": {
            "text/html": [
              "<div>\n",
              "<style scoped>\n",
              "    .dataframe tbody tr th:only-of-type {\n",
              "        vertical-align: middle;\n",
              "    }\n",
              "\n",
              "    .dataframe tbody tr th {\n",
              "        vertical-align: top;\n",
              "    }\n",
              "\n",
              "    .dataframe thead th {\n",
              "        text-align: right;\n",
              "    }\n",
              "</style>\n",
              "<table border=\"1\" class=\"dataframe\">\n",
              "  <thead>\n",
              "    <tr style=\"text-align: right;\">\n",
              "      <th></th>\n",
              "      <th>92</th>\n",
              "      <th>115</th>\n",
              "      <th>120</th>\n",
              "      <th>94</th>\n",
              "      <th>84</th>\n",
              "      <th>102</th>\n",
              "      <th>106</th>\n",
              "      <th>79</th>\n",
              "      <th>84.1</th>\n",
              "      <th>102.1</th>\n",
              "      <th>102.2</th>\n",
              "      <th>83</th>\n",
              "      <th>101</th>\n",
              "      <th>126</th>\n",
              "      <th>133</th>\n",
              "      <th>103</th>\n",
              "      <th>92.1</th>\n",
              "      <th>112</th>\n",
              "      <th>118</th>\n",
              "      <th>85</th>\n",
              "      <th>84.2</th>\n",
              "      <th>103.1</th>\n",
              "      <th>104</th>\n",
              "      <th>81</th>\n",
              "      <th>102.3</th>\n",
              "      <th>126.1</th>\n",
              "      <th>134</th>\n",
              "      <th>104.1</th>\n",
              "      <th>88</th>\n",
              "      <th>121</th>\n",
              "      <th>128</th>\n",
              "      <th>100</th>\n",
              "      <th>84.3</th>\n",
              "      <th>107</th>\n",
              "      <th>113</th>\n",
              "      <th>87</th>\n",
              "      <th>3</th>\n",
              "    </tr>\n",
              "  </thead>\n",
              "  <tbody>\n",
              "    <tr>\n",
              "      <th>0</th>\n",
              "      <td>84</td>\n",
              "      <td>102</td>\n",
              "      <td>106</td>\n",
              "      <td>79</td>\n",
              "      <td>84</td>\n",
              "      <td>102</td>\n",
              "      <td>102</td>\n",
              "      <td>83</td>\n",
              "      <td>80</td>\n",
              "      <td>102</td>\n",
              "      <td>102</td>\n",
              "      <td>79</td>\n",
              "      <td>92</td>\n",
              "      <td>112</td>\n",
              "      <td>118</td>\n",
              "      <td>85</td>\n",
              "      <td>84</td>\n",
              "      <td>103</td>\n",
              "      <td>104</td>\n",
              "      <td>81</td>\n",
              "      <td>84</td>\n",
              "      <td>99</td>\n",
              "      <td>104</td>\n",
              "      <td>78</td>\n",
              "      <td>88</td>\n",
              "      <td>121</td>\n",
              "      <td>128</td>\n",
              "      <td>100</td>\n",
              "      <td>84</td>\n",
              "      <td>107</td>\n",
              "      <td>113</td>\n",
              "      <td>87</td>\n",
              "      <td>84</td>\n",
              "      <td>99</td>\n",
              "      <td>104</td>\n",
              "      <td>79</td>\n",
              "      <td>3</td>\n",
              "    </tr>\n",
              "    <tr>\n",
              "      <th>1</th>\n",
              "      <td>84</td>\n",
              "      <td>102</td>\n",
              "      <td>102</td>\n",
              "      <td>83</td>\n",
              "      <td>80</td>\n",
              "      <td>102</td>\n",
              "      <td>102</td>\n",
              "      <td>79</td>\n",
              "      <td>84</td>\n",
              "      <td>94</td>\n",
              "      <td>102</td>\n",
              "      <td>79</td>\n",
              "      <td>84</td>\n",
              "      <td>103</td>\n",
              "      <td>104</td>\n",
              "      <td>81</td>\n",
              "      <td>84</td>\n",
              "      <td>99</td>\n",
              "      <td>104</td>\n",
              "      <td>78</td>\n",
              "      <td>84</td>\n",
              "      <td>99</td>\n",
              "      <td>104</td>\n",
              "      <td>81</td>\n",
              "      <td>84</td>\n",
              "      <td>107</td>\n",
              "      <td>113</td>\n",
              "      <td>87</td>\n",
              "      <td>84</td>\n",
              "      <td>99</td>\n",
              "      <td>104</td>\n",
              "      <td>79</td>\n",
              "      <td>84</td>\n",
              "      <td>99</td>\n",
              "      <td>104</td>\n",
              "      <td>79</td>\n",
              "      <td>3</td>\n",
              "    </tr>\n",
              "    <tr>\n",
              "      <th>2</th>\n",
              "      <td>80</td>\n",
              "      <td>102</td>\n",
              "      <td>102</td>\n",
              "      <td>79</td>\n",
              "      <td>84</td>\n",
              "      <td>94</td>\n",
              "      <td>102</td>\n",
              "      <td>79</td>\n",
              "      <td>80</td>\n",
              "      <td>94</td>\n",
              "      <td>98</td>\n",
              "      <td>76</td>\n",
              "      <td>84</td>\n",
              "      <td>99</td>\n",
              "      <td>104</td>\n",
              "      <td>78</td>\n",
              "      <td>84</td>\n",
              "      <td>99</td>\n",
              "      <td>104</td>\n",
              "      <td>81</td>\n",
              "      <td>76</td>\n",
              "      <td>99</td>\n",
              "      <td>104</td>\n",
              "      <td>81</td>\n",
              "      <td>84</td>\n",
              "      <td>99</td>\n",
              "      <td>104</td>\n",
              "      <td>79</td>\n",
              "      <td>84</td>\n",
              "      <td>99</td>\n",
              "      <td>104</td>\n",
              "      <td>79</td>\n",
              "      <td>84</td>\n",
              "      <td>103</td>\n",
              "      <td>104</td>\n",
              "      <td>79</td>\n",
              "      <td>3</td>\n",
              "    </tr>\n",
              "    <tr>\n",
              "      <th>3</th>\n",
              "      <td>84</td>\n",
              "      <td>94</td>\n",
              "      <td>102</td>\n",
              "      <td>79</td>\n",
              "      <td>80</td>\n",
              "      <td>94</td>\n",
              "      <td>98</td>\n",
              "      <td>76</td>\n",
              "      <td>80</td>\n",
              "      <td>102</td>\n",
              "      <td>102</td>\n",
              "      <td>79</td>\n",
              "      <td>84</td>\n",
              "      <td>99</td>\n",
              "      <td>104</td>\n",
              "      <td>81</td>\n",
              "      <td>76</td>\n",
              "      <td>99</td>\n",
              "      <td>104</td>\n",
              "      <td>81</td>\n",
              "      <td>76</td>\n",
              "      <td>99</td>\n",
              "      <td>108</td>\n",
              "      <td>85</td>\n",
              "      <td>84</td>\n",
              "      <td>99</td>\n",
              "      <td>104</td>\n",
              "      <td>79</td>\n",
              "      <td>84</td>\n",
              "      <td>103</td>\n",
              "      <td>104</td>\n",
              "      <td>79</td>\n",
              "      <td>79</td>\n",
              "      <td>107</td>\n",
              "      <td>109</td>\n",
              "      <td>87</td>\n",
              "      <td>3</td>\n",
              "    </tr>\n",
              "    <tr>\n",
              "      <th>4</th>\n",
              "      <td>80</td>\n",
              "      <td>94</td>\n",
              "      <td>98</td>\n",
              "      <td>76</td>\n",
              "      <td>80</td>\n",
              "      <td>102</td>\n",
              "      <td>102</td>\n",
              "      <td>79</td>\n",
              "      <td>76</td>\n",
              "      <td>102</td>\n",
              "      <td>102</td>\n",
              "      <td>79</td>\n",
              "      <td>76</td>\n",
              "      <td>99</td>\n",
              "      <td>104</td>\n",
              "      <td>81</td>\n",
              "      <td>76</td>\n",
              "      <td>99</td>\n",
              "      <td>108</td>\n",
              "      <td>85</td>\n",
              "      <td>76</td>\n",
              "      <td>103</td>\n",
              "      <td>118</td>\n",
              "      <td>88</td>\n",
              "      <td>84</td>\n",
              "      <td>103</td>\n",
              "      <td>104</td>\n",
              "      <td>79</td>\n",
              "      <td>79</td>\n",
              "      <td>107</td>\n",
              "      <td>109</td>\n",
              "      <td>87</td>\n",
              "      <td>79</td>\n",
              "      <td>107</td>\n",
              "      <td>109</td>\n",
              "      <td>87</td>\n",
              "      <td>3</td>\n",
              "    </tr>\n",
              "    <tr>\n",
              "      <th>...</th>\n",
              "      <td>...</td>\n",
              "      <td>...</td>\n",
              "      <td>...</td>\n",
              "      <td>...</td>\n",
              "      <td>...</td>\n",
              "      <td>...</td>\n",
              "      <td>...</td>\n",
              "      <td>...</td>\n",
              "      <td>...</td>\n",
              "      <td>...</td>\n",
              "      <td>...</td>\n",
              "      <td>...</td>\n",
              "      <td>...</td>\n",
              "      <td>...</td>\n",
              "      <td>...</td>\n",
              "      <td>...</td>\n",
              "      <td>...</td>\n",
              "      <td>...</td>\n",
              "      <td>...</td>\n",
              "      <td>...</td>\n",
              "      <td>...</td>\n",
              "      <td>...</td>\n",
              "      <td>...</td>\n",
              "      <td>...</td>\n",
              "      <td>...</td>\n",
              "      <td>...</td>\n",
              "      <td>...</td>\n",
              "      <td>...</td>\n",
              "      <td>...</td>\n",
              "      <td>...</td>\n",
              "      <td>...</td>\n",
              "      <td>...</td>\n",
              "      <td>...</td>\n",
              "      <td>...</td>\n",
              "      <td>...</td>\n",
              "      <td>...</td>\n",
              "      <td>...</td>\n",
              "    </tr>\n",
              "    <tr>\n",
              "      <th>4429</th>\n",
              "      <td>56</td>\n",
              "      <td>64</td>\n",
              "      <td>108</td>\n",
              "      <td>96</td>\n",
              "      <td>64</td>\n",
              "      <td>71</td>\n",
              "      <td>108</td>\n",
              "      <td>96</td>\n",
              "      <td>68</td>\n",
              "      <td>75</td>\n",
              "      <td>108</td>\n",
              "      <td>96</td>\n",
              "      <td>59</td>\n",
              "      <td>75</td>\n",
              "      <td>109</td>\n",
              "      <td>96</td>\n",
              "      <td>67</td>\n",
              "      <td>87</td>\n",
              "      <td>113</td>\n",
              "      <td>96</td>\n",
              "      <td>67</td>\n",
              "      <td>95</td>\n",
              "      <td>109</td>\n",
              "      <td>92</td>\n",
              "      <td>63</td>\n",
              "      <td>79</td>\n",
              "      <td>108</td>\n",
              "      <td>92</td>\n",
              "      <td>66</td>\n",
              "      <td>83</td>\n",
              "      <td>108</td>\n",
              "      <td>96</td>\n",
              "      <td>66</td>\n",
              "      <td>87</td>\n",
              "      <td>104</td>\n",
              "      <td>89</td>\n",
              "      <td>5</td>\n",
              "    </tr>\n",
              "    <tr>\n",
              "      <th>4430</th>\n",
              "      <td>64</td>\n",
              "      <td>71</td>\n",
              "      <td>108</td>\n",
              "      <td>96</td>\n",
              "      <td>68</td>\n",
              "      <td>75</td>\n",
              "      <td>108</td>\n",
              "      <td>96</td>\n",
              "      <td>71</td>\n",
              "      <td>87</td>\n",
              "      <td>108</td>\n",
              "      <td>88</td>\n",
              "      <td>67</td>\n",
              "      <td>87</td>\n",
              "      <td>113</td>\n",
              "      <td>96</td>\n",
              "      <td>67</td>\n",
              "      <td>95</td>\n",
              "      <td>109</td>\n",
              "      <td>92</td>\n",
              "      <td>75</td>\n",
              "      <td>99</td>\n",
              "      <td>104</td>\n",
              "      <td>83</td>\n",
              "      <td>66</td>\n",
              "      <td>83</td>\n",
              "      <td>108</td>\n",
              "      <td>96</td>\n",
              "      <td>66</td>\n",
              "      <td>87</td>\n",
              "      <td>104</td>\n",
              "      <td>89</td>\n",
              "      <td>63</td>\n",
              "      <td>87</td>\n",
              "      <td>104</td>\n",
              "      <td>89</td>\n",
              "      <td>5</td>\n",
              "    </tr>\n",
              "    <tr>\n",
              "      <th>4431</th>\n",
              "      <td>68</td>\n",
              "      <td>75</td>\n",
              "      <td>108</td>\n",
              "      <td>96</td>\n",
              "      <td>71</td>\n",
              "      <td>87</td>\n",
              "      <td>108</td>\n",
              "      <td>88</td>\n",
              "      <td>71</td>\n",
              "      <td>91</td>\n",
              "      <td>100</td>\n",
              "      <td>81</td>\n",
              "      <td>67</td>\n",
              "      <td>95</td>\n",
              "      <td>109</td>\n",
              "      <td>92</td>\n",
              "      <td>75</td>\n",
              "      <td>99</td>\n",
              "      <td>104</td>\n",
              "      <td>83</td>\n",
              "      <td>75</td>\n",
              "      <td>95</td>\n",
              "      <td>100</td>\n",
              "      <td>79</td>\n",
              "      <td>66</td>\n",
              "      <td>87</td>\n",
              "      <td>104</td>\n",
              "      <td>89</td>\n",
              "      <td>63</td>\n",
              "      <td>87</td>\n",
              "      <td>104</td>\n",
              "      <td>89</td>\n",
              "      <td>70</td>\n",
              "      <td>100</td>\n",
              "      <td>104</td>\n",
              "      <td>85</td>\n",
              "      <td>4</td>\n",
              "    </tr>\n",
              "    <tr>\n",
              "      <th>4432</th>\n",
              "      <td>71</td>\n",
              "      <td>87</td>\n",
              "      <td>108</td>\n",
              "      <td>88</td>\n",
              "      <td>71</td>\n",
              "      <td>91</td>\n",
              "      <td>100</td>\n",
              "      <td>81</td>\n",
              "      <td>76</td>\n",
              "      <td>95</td>\n",
              "      <td>108</td>\n",
              "      <td>88</td>\n",
              "      <td>75</td>\n",
              "      <td>99</td>\n",
              "      <td>104</td>\n",
              "      <td>83</td>\n",
              "      <td>75</td>\n",
              "      <td>95</td>\n",
              "      <td>100</td>\n",
              "      <td>79</td>\n",
              "      <td>71</td>\n",
              "      <td>91</td>\n",
              "      <td>100</td>\n",
              "      <td>83</td>\n",
              "      <td>63</td>\n",
              "      <td>87</td>\n",
              "      <td>104</td>\n",
              "      <td>89</td>\n",
              "      <td>70</td>\n",
              "      <td>100</td>\n",
              "      <td>104</td>\n",
              "      <td>85</td>\n",
              "      <td>70</td>\n",
              "      <td>91</td>\n",
              "      <td>104</td>\n",
              "      <td>85</td>\n",
              "      <td>4</td>\n",
              "    </tr>\n",
              "    <tr>\n",
              "      <th>4433</th>\n",
              "      <td>71</td>\n",
              "      <td>91</td>\n",
              "      <td>100</td>\n",
              "      <td>81</td>\n",
              "      <td>76</td>\n",
              "      <td>95</td>\n",
              "      <td>108</td>\n",
              "      <td>88</td>\n",
              "      <td>80</td>\n",
              "      <td>95</td>\n",
              "      <td>104</td>\n",
              "      <td>85</td>\n",
              "      <td>75</td>\n",
              "      <td>95</td>\n",
              "      <td>100</td>\n",
              "      <td>79</td>\n",
              "      <td>71</td>\n",
              "      <td>91</td>\n",
              "      <td>100</td>\n",
              "      <td>83</td>\n",
              "      <td>71</td>\n",
              "      <td>95</td>\n",
              "      <td>104</td>\n",
              "      <td>87</td>\n",
              "      <td>70</td>\n",
              "      <td>100</td>\n",
              "      <td>104</td>\n",
              "      <td>85</td>\n",
              "      <td>70</td>\n",
              "      <td>91</td>\n",
              "      <td>104</td>\n",
              "      <td>85</td>\n",
              "      <td>63</td>\n",
              "      <td>91</td>\n",
              "      <td>100</td>\n",
              "      <td>81</td>\n",
              "      <td>4</td>\n",
              "    </tr>\n",
              "  </tbody>\n",
              "</table>\n",
              "<p>4434 rows × 37 columns</p>\n",
              "</div>"
            ],
            "text/plain": [
              "      92  115  120  94  84  102  106  79  ...  121  128  100  84.3  107  113  87  3\n",
              "0     84  102  106  79  84  102  102  83  ...  107  113   87    84   99  104  79  3\n",
              "1     84  102  102  83  80  102  102  79  ...   99  104   79    84   99  104  79  3\n",
              "2     80  102  102  79  84   94  102  79  ...   99  104   79    84  103  104  79  3\n",
              "3     84   94  102  79  80   94   98  76  ...  103  104   79    79  107  109  87  3\n",
              "4     80   94   98  76  80  102  102  79  ...  107  109   87    79  107  109  87  3\n",
              "...   ..  ...  ...  ..  ..  ...  ...  ..  ...  ...  ...  ...   ...  ...  ...  .. ..\n",
              "4429  56   64  108  96  64   71  108  96  ...   83  108   96    66   87  104  89  5\n",
              "4430  64   71  108  96  68   75  108  96  ...   87  104   89    63   87  104  89  5\n",
              "4431  68   75  108  96  71   87  108  88  ...   87  104   89    70  100  104  85  4\n",
              "4432  71   87  108  88  71   91  100  81  ...  100  104   85    70   91  104  85  4\n",
              "4433  71   91  100  81  76   95  108  88  ...   91  104   85    63   91  100  81  4\n",
              "\n",
              "[4434 rows x 37 columns]"
            ]
          },
          "metadata": {
            "tags": []
          },
          "execution_count": 26
        }
      ]
    },
    {
      "cell_type": "code",
      "metadata": {
        "colab": {
          "base_uri": "https://localhost:8080/"
        },
        "id": "7AVcKNUvUR2v",
        "outputId": "e812f5b4-eeca-4fd0-8027-52bb15a6f0c0"
      },
      "source": [
        "#Notre dataset ne contient que des int \n",
        "satellites_images.info()"
      ],
      "execution_count": 27,
      "outputs": [
        {
          "output_type": "stream",
          "text": [
            "<class 'pandas.core.frame.DataFrame'>\n",
            "RangeIndex: 4434 entries, 0 to 4433\n",
            "Data columns (total 37 columns):\n",
            " #   Column  Non-Null Count  Dtype\n",
            "---  ------  --------------  -----\n",
            " 0   92      4434 non-null   int64\n",
            " 1   115     4434 non-null   int64\n",
            " 2   120     4434 non-null   int64\n",
            " 3   94      4434 non-null   int64\n",
            " 4   84      4434 non-null   int64\n",
            " 5   102     4434 non-null   int64\n",
            " 6   106     4434 non-null   int64\n",
            " 7   79      4434 non-null   int64\n",
            " 8   84.1    4434 non-null   int64\n",
            " 9   102.1   4434 non-null   int64\n",
            " 10  102.2   4434 non-null   int64\n",
            " 11  83      4434 non-null   int64\n",
            " 12  101     4434 non-null   int64\n",
            " 13  126     4434 non-null   int64\n",
            " 14  133     4434 non-null   int64\n",
            " 15  103     4434 non-null   int64\n",
            " 16  92.1    4434 non-null   int64\n",
            " 17  112     4434 non-null   int64\n",
            " 18  118     4434 non-null   int64\n",
            " 19  85      4434 non-null   int64\n",
            " 20  84.2    4434 non-null   int64\n",
            " 21  103.1   4434 non-null   int64\n",
            " 22  104     4434 non-null   int64\n",
            " 23  81      4434 non-null   int64\n",
            " 24  102.3   4434 non-null   int64\n",
            " 25  126.1   4434 non-null   int64\n",
            " 26  134     4434 non-null   int64\n",
            " 27  104.1   4434 non-null   int64\n",
            " 28  88      4434 non-null   int64\n",
            " 29  121     4434 non-null   int64\n",
            " 30  128     4434 non-null   int64\n",
            " 31  100     4434 non-null   int64\n",
            " 32  84.3    4434 non-null   int64\n",
            " 33  107     4434 non-null   int64\n",
            " 34  113     4434 non-null   int64\n",
            " 35  87      4434 non-null   int64\n",
            " 36  3       4434 non-null   int64\n",
            "dtypes: int64(37)\n",
            "memory usage: 1.3 MB\n"
          ],
          "name": "stdout"
        }
      ]
    },
    {
      "cell_type": "markdown",
      "metadata": {
        "id": "pvZAxGmCLhm7"
      },
      "source": [
        "La dernière colonne indique l'étiquette de classification du pixel central\n",
        "\n",
        "La classification permet de déterminer le type de sol \n",
        "\n",
        "Ce numéro compris entre 1 et 7 est un code pour les classes suivantes :\n",
        "\n",
        "\tNuméro de classe\n",
        "\n",
        "\t1 Terre rouge\n",
        "\t2 Culture du coton\n",
        "\t3 Sol gris\n",
        "\t4 Sol gris humide\n",
        "\t5 Sol avec des chaumes de végétation\n",
        "\t6 classe de mélange (tous les types présents)\n",
        "\t7 Sol gris très humide\n",
        "\n",
        "  NB : Il n'y a pas d'exemples avec la classe 6 dans cette base de données"
      ]
    },
    {
      "cell_type": "code",
      "metadata": {
        "colab": {
          "base_uri": "https://localhost:8080/",
          "height": 317
        },
        "id": "KJxiRhJWK22F",
        "outputId": "af93acb7-0014-4309-9ab5-9734efab6ae5"
      },
      "source": [
        "# On renomme les colonnes pour plus de clarté\n",
        "satellites_images.columns =['1','2','3','4','5','6','7','8','9','10','11','12','13','14','15','16','17','18','19','20','21','22','23','24','25','26','27','28','29','30','31','32','33','34','35','36','Y'] \n",
        "satellites_images.describe()"
      ],
      "execution_count": 28,
      "outputs": [
        {
          "output_type": "execute_result",
          "data": {
            "text/html": [
              "<div>\n",
              "<style scoped>\n",
              "    .dataframe tbody tr th:only-of-type {\n",
              "        vertical-align: middle;\n",
              "    }\n",
              "\n",
              "    .dataframe tbody tr th {\n",
              "        vertical-align: top;\n",
              "    }\n",
              "\n",
              "    .dataframe thead th {\n",
              "        text-align: right;\n",
              "    }\n",
              "</style>\n",
              "<table border=\"1\" class=\"dataframe\">\n",
              "  <thead>\n",
              "    <tr style=\"text-align: right;\">\n",
              "      <th></th>\n",
              "      <th>1</th>\n",
              "      <th>2</th>\n",
              "      <th>3</th>\n",
              "      <th>4</th>\n",
              "      <th>5</th>\n",
              "      <th>6</th>\n",
              "      <th>7</th>\n",
              "      <th>8</th>\n",
              "      <th>9</th>\n",
              "      <th>10</th>\n",
              "      <th>11</th>\n",
              "      <th>12</th>\n",
              "      <th>13</th>\n",
              "      <th>14</th>\n",
              "      <th>15</th>\n",
              "      <th>16</th>\n",
              "      <th>17</th>\n",
              "      <th>18</th>\n",
              "      <th>19</th>\n",
              "      <th>20</th>\n",
              "      <th>21</th>\n",
              "      <th>22</th>\n",
              "      <th>23</th>\n",
              "      <th>24</th>\n",
              "      <th>25</th>\n",
              "      <th>26</th>\n",
              "      <th>27</th>\n",
              "      <th>28</th>\n",
              "      <th>29</th>\n",
              "      <th>30</th>\n",
              "      <th>31</th>\n",
              "      <th>32</th>\n",
              "      <th>33</th>\n",
              "      <th>34</th>\n",
              "      <th>35</th>\n",
              "      <th>36</th>\n",
              "      <th>Y</th>\n",
              "    </tr>\n",
              "  </thead>\n",
              "  <tbody>\n",
              "    <tr>\n",
              "      <th>count</th>\n",
              "      <td>4434.000000</td>\n",
              "      <td>4434.000000</td>\n",
              "      <td>4434.000000</td>\n",
              "      <td>4434.000000</td>\n",
              "      <td>4434.000000</td>\n",
              "      <td>4434.000000</td>\n",
              "      <td>4434.000000</td>\n",
              "      <td>4434.000000</td>\n",
              "      <td>4434.000000</td>\n",
              "      <td>4434.000000</td>\n",
              "      <td>4434.000000</td>\n",
              "      <td>4434.000000</td>\n",
              "      <td>4434.000000</td>\n",
              "      <td>4434.000000</td>\n",
              "      <td>4434.000000</td>\n",
              "      <td>4434.000000</td>\n",
              "      <td>4434.000000</td>\n",
              "      <td>4434.000000</td>\n",
              "      <td>4434.000000</td>\n",
              "      <td>4434.000000</td>\n",
              "      <td>4434.000000</td>\n",
              "      <td>4434.000000</td>\n",
              "      <td>4434.000000</td>\n",
              "      <td>4434.000000</td>\n",
              "      <td>4434.000000</td>\n",
              "      <td>4434.000000</td>\n",
              "      <td>4434.000000</td>\n",
              "      <td>4434.000000</td>\n",
              "      <td>4434.000000</td>\n",
              "      <td>4434.000000</td>\n",
              "      <td>4434.000000</td>\n",
              "      <td>4434.00000</td>\n",
              "      <td>4434.00000</td>\n",
              "      <td>4434.000000</td>\n",
              "      <td>4434.000000</td>\n",
              "      <td>4434.000000</td>\n",
              "      <td>4434.000000</td>\n",
              "    </tr>\n",
              "    <tr>\n",
              "      <th>mean</th>\n",
              "      <td>69.468877</td>\n",
              "      <td>83.848218</td>\n",
              "      <td>99.318223</td>\n",
              "      <td>82.553000</td>\n",
              "      <td>69.205458</td>\n",
              "      <td>83.495264</td>\n",
              "      <td>99.172982</td>\n",
              "      <td>82.481281</td>\n",
              "      <td>68.960081</td>\n",
              "      <td>83.126748</td>\n",
              "      <td>98.973162</td>\n",
              "      <td>82.414073</td>\n",
              "      <td>69.367614</td>\n",
              "      <td>83.722147</td>\n",
              "      <td>99.405277</td>\n",
              "      <td>82.649301</td>\n",
              "      <td>69.121561</td>\n",
              "      <td>83.427379</td>\n",
              "      <td>99.237709</td>\n",
              "      <td>82.617050</td>\n",
              "      <td>68.916554</td>\n",
              "      <td>83.140505</td>\n",
              "      <td>99.002706</td>\n",
              "      <td>82.479928</td>\n",
              "      <td>69.246955</td>\n",
              "      <td>83.661028</td>\n",
              "      <td>99.316870</td>\n",
              "      <td>82.669147</td>\n",
              "      <td>69.028868</td>\n",
              "      <td>83.425801</td>\n",
              "      <td>99.177267</td>\n",
              "      <td>82.63419</td>\n",
              "      <td>68.79364</td>\n",
              "      <td>83.147948</td>\n",
              "      <td>99.058412</td>\n",
              "      <td>82.583446</td>\n",
              "      <td>3.650429</td>\n",
              "    </tr>\n",
              "    <tr>\n",
              "      <th>std</th>\n",
              "      <td>13.646980</td>\n",
              "      <td>22.722826</td>\n",
              "      <td>16.671154</td>\n",
              "      <td>18.696768</td>\n",
              "      <td>13.552130</td>\n",
              "      <td>22.812689</td>\n",
              "      <td>16.629143</td>\n",
              "      <td>18.716309</td>\n",
              "      <td>13.497491</td>\n",
              "      <td>22.814124</td>\n",
              "      <td>16.678282</td>\n",
              "      <td>18.845387</td>\n",
              "      <td>13.650604</td>\n",
              "      <td>22.780050</td>\n",
              "      <td>16.682818</td>\n",
              "      <td>18.801801</td>\n",
              "      <td>13.558385</td>\n",
              "      <td>22.816232</td>\n",
              "      <td>16.725983</td>\n",
              "      <td>18.845985</td>\n",
              "      <td>13.465206</td>\n",
              "      <td>22.826415</td>\n",
              "      <td>16.721549</td>\n",
              "      <td>18.925899</td>\n",
              "      <td>13.640485</td>\n",
              "      <td>22.762664</td>\n",
              "      <td>16.695288</td>\n",
              "      <td>18.883735</td>\n",
              "      <td>13.532462</td>\n",
              "      <td>22.807683</td>\n",
              "      <td>16.737532</td>\n",
              "      <td>18.94016</td>\n",
              "      <td>13.43736</td>\n",
              "      <td>22.762433</td>\n",
              "      <td>16.661299</td>\n",
              "      <td>18.897527</td>\n",
              "      <td>2.217284</td>\n",
              "    </tr>\n",
              "    <tr>\n",
              "      <th>min</th>\n",
              "      <td>40.000000</td>\n",
              "      <td>27.000000</td>\n",
              "      <td>56.000000</td>\n",
              "      <td>33.000000</td>\n",
              "      <td>40.000000</td>\n",
              "      <td>27.000000</td>\n",
              "      <td>50.000000</td>\n",
              "      <td>29.000000</td>\n",
              "      <td>40.000000</td>\n",
              "      <td>27.000000</td>\n",
              "      <td>50.000000</td>\n",
              "      <td>29.000000</td>\n",
              "      <td>40.000000</td>\n",
              "      <td>27.000000</td>\n",
              "      <td>53.000000</td>\n",
              "      <td>33.000000</td>\n",
              "      <td>40.000000</td>\n",
              "      <td>27.000000</td>\n",
              "      <td>56.000000</td>\n",
              "      <td>34.000000</td>\n",
              "      <td>39.000000</td>\n",
              "      <td>27.000000</td>\n",
              "      <td>50.000000</td>\n",
              "      <td>29.000000</td>\n",
              "      <td>40.000000</td>\n",
              "      <td>27.000000</td>\n",
              "      <td>53.000000</td>\n",
              "      <td>34.000000</td>\n",
              "      <td>39.000000</td>\n",
              "      <td>27.000000</td>\n",
              "      <td>50.000000</td>\n",
              "      <td>29.00000</td>\n",
              "      <td>40.00000</td>\n",
              "      <td>27.000000</td>\n",
              "      <td>50.000000</td>\n",
              "      <td>29.000000</td>\n",
              "      <td>1.000000</td>\n",
              "    </tr>\n",
              "    <tr>\n",
              "      <th>25%</th>\n",
              "      <td>60.000000</td>\n",
              "      <td>71.000000</td>\n",
              "      <td>85.000000</td>\n",
              "      <td>70.000000</td>\n",
              "      <td>60.000000</td>\n",
              "      <td>71.000000</td>\n",
              "      <td>85.000000</td>\n",
              "      <td>69.000000</td>\n",
              "      <td>60.000000</td>\n",
              "      <td>71.000000</td>\n",
              "      <td>85.000000</td>\n",
              "      <td>68.000000</td>\n",
              "      <td>60.000000</td>\n",
              "      <td>71.000000</td>\n",
              "      <td>85.000000</td>\n",
              "      <td>69.250000</td>\n",
              "      <td>60.000000</td>\n",
              "      <td>71.000000</td>\n",
              "      <td>85.000000</td>\n",
              "      <td>69.000000</td>\n",
              "      <td>60.000000</td>\n",
              "      <td>71.000000</td>\n",
              "      <td>85.000000</td>\n",
              "      <td>68.000000</td>\n",
              "      <td>60.000000</td>\n",
              "      <td>71.000000</td>\n",
              "      <td>85.000000</td>\n",
              "      <td>70.000000</td>\n",
              "      <td>60.000000</td>\n",
              "      <td>71.000000</td>\n",
              "      <td>85.000000</td>\n",
              "      <td>69.00000</td>\n",
              "      <td>60.00000</td>\n",
              "      <td>71.000000</td>\n",
              "      <td>85.000000</td>\n",
              "      <td>69.000000</td>\n",
              "      <td>2.000000</td>\n",
              "    </tr>\n",
              "    <tr>\n",
              "      <th>50%</th>\n",
              "      <td>68.000000</td>\n",
              "      <td>87.000000</td>\n",
              "      <td>101.000000</td>\n",
              "      <td>83.000000</td>\n",
              "      <td>68.000000</td>\n",
              "      <td>85.000000</td>\n",
              "      <td>101.000000</td>\n",
              "      <td>81.000000</td>\n",
              "      <td>67.000000</td>\n",
              "      <td>85.000000</td>\n",
              "      <td>101.000000</td>\n",
              "      <td>81.000000</td>\n",
              "      <td>68.000000</td>\n",
              "      <td>87.000000</td>\n",
              "      <td>101.000000</td>\n",
              "      <td>81.000000</td>\n",
              "      <td>68.000000</td>\n",
              "      <td>85.000000</td>\n",
              "      <td>101.000000</td>\n",
              "      <td>81.000000</td>\n",
              "      <td>67.000000</td>\n",
              "      <td>85.000000</td>\n",
              "      <td>100.000000</td>\n",
              "      <td>81.000000</td>\n",
              "      <td>68.000000</td>\n",
              "      <td>85.000000</td>\n",
              "      <td>101.000000</td>\n",
              "      <td>81.000000</td>\n",
              "      <td>68.000000</td>\n",
              "      <td>85.000000</td>\n",
              "      <td>101.000000</td>\n",
              "      <td>81.00000</td>\n",
              "      <td>67.00000</td>\n",
              "      <td>85.000000</td>\n",
              "      <td>100.000000</td>\n",
              "      <td>81.000000</td>\n",
              "      <td>3.000000</td>\n",
              "    </tr>\n",
              "    <tr>\n",
              "      <th>75%</th>\n",
              "      <td>80.000000</td>\n",
              "      <td>103.000000</td>\n",
              "      <td>113.000000</td>\n",
              "      <td>92.000000</td>\n",
              "      <td>80.000000</td>\n",
              "      <td>103.000000</td>\n",
              "      <td>113.000000</td>\n",
              "      <td>92.000000</td>\n",
              "      <td>79.000000</td>\n",
              "      <td>103.000000</td>\n",
              "      <td>113.000000</td>\n",
              "      <td>92.000000</td>\n",
              "      <td>80.000000</td>\n",
              "      <td>103.000000</td>\n",
              "      <td>113.000000</td>\n",
              "      <td>92.000000</td>\n",
              "      <td>79.000000</td>\n",
              "      <td>103.000000</td>\n",
              "      <td>113.000000</td>\n",
              "      <td>92.000000</td>\n",
              "      <td>79.000000</td>\n",
              "      <td>103.000000</td>\n",
              "      <td>113.000000</td>\n",
              "      <td>92.000000</td>\n",
              "      <td>80.000000</td>\n",
              "      <td>103.000000</td>\n",
              "      <td>113.000000</td>\n",
              "      <td>92.000000</td>\n",
              "      <td>79.000000</td>\n",
              "      <td>103.000000</td>\n",
              "      <td>113.000000</td>\n",
              "      <td>92.00000</td>\n",
              "      <td>79.00000</td>\n",
              "      <td>103.000000</td>\n",
              "      <td>113.000000</td>\n",
              "      <td>92.000000</td>\n",
              "      <td>5.000000</td>\n",
              "    </tr>\n",
              "    <tr>\n",
              "      <th>max</th>\n",
              "      <td>104.000000</td>\n",
              "      <td>137.000000</td>\n",
              "      <td>140.000000</td>\n",
              "      <td>154.000000</td>\n",
              "      <td>102.000000</td>\n",
              "      <td>137.000000</td>\n",
              "      <td>145.000000</td>\n",
              "      <td>157.000000</td>\n",
              "      <td>104.000000</td>\n",
              "      <td>130.000000</td>\n",
              "      <td>145.000000</td>\n",
              "      <td>157.000000</td>\n",
              "      <td>102.000000</td>\n",
              "      <td>131.000000</td>\n",
              "      <td>145.000000</td>\n",
              "      <td>151.000000</td>\n",
              "      <td>104.000000</td>\n",
              "      <td>130.000000</td>\n",
              "      <td>139.000000</td>\n",
              "      <td>157.000000</td>\n",
              "      <td>104.000000</td>\n",
              "      <td>130.000000</td>\n",
              "      <td>140.000000</td>\n",
              "      <td>154.000000</td>\n",
              "      <td>104.000000</td>\n",
              "      <td>131.000000</td>\n",
              "      <td>140.000000</td>\n",
              "      <td>154.000000</td>\n",
              "      <td>104.000000</td>\n",
              "      <td>128.000000</td>\n",
              "      <td>145.000000</td>\n",
              "      <td>157.00000</td>\n",
              "      <td>104.00000</td>\n",
              "      <td>130.000000</td>\n",
              "      <td>145.000000</td>\n",
              "      <td>157.000000</td>\n",
              "      <td>7.000000</td>\n",
              "    </tr>\n",
              "  </tbody>\n",
              "</table>\n",
              "</div>"
            ],
            "text/plain": [
              "                 1            2  ...           36            Y\n",
              "count  4434.000000  4434.000000  ...  4434.000000  4434.000000\n",
              "mean     69.468877    83.848218  ...    82.583446     3.650429\n",
              "std      13.646980    22.722826  ...    18.897527     2.217284\n",
              "min      40.000000    27.000000  ...    29.000000     1.000000\n",
              "25%      60.000000    71.000000  ...    69.000000     2.000000\n",
              "50%      68.000000    87.000000  ...    81.000000     3.000000\n",
              "75%      80.000000   103.000000  ...    92.000000     5.000000\n",
              "max     104.000000   137.000000  ...   157.000000     7.000000\n",
              "\n",
              "[8 rows x 37 columns]"
            ]
          },
          "metadata": {
            "tags": []
          },
          "execution_count": 28
        }
      ]
    },
    {
      "cell_type": "markdown",
      "metadata": {
        "id": "zSu8M6FgN8Wq"
      },
      "source": [
        "La valeur minimum d'un pixel sur la totalité des colonnes est de 27 et la valeur maximum est de 157. \n",
        "\n",
        "Les pixels pouvant varier de 0 (noir) à 255 (blanc), on comprend alors que les images satellites représentent les valeurs de réflectance des surfaces visant le sol. \n",
        "Ainsi, pas d'image dans le vide ni d'image trop proche pouvant donner des extrêmes.\n",
        "\n"
      ]
    },
    {
      "cell_type": "markdown",
      "metadata": {
        "id": "ZMhXxU3_8zpv"
      },
      "source": [
        "## II. Vérification de la cohérence du dataset"
      ]
    },
    {
      "cell_type": "markdown",
      "metadata": {
        "id": "E-w7p7reSEgi"
      },
      "source": [
        "Sur la page *Comprendre une image satellitaire* sur le site CMS GéoBretagne, on obtient cette information : \n",
        "\n",
        "```\n",
        "Dans l'intervalle de longueur d'onde correspondant aux couleurs vertes et rouges, la végétation a des valeurs de réflectance basses, \n",
        "alors qu'elle a des valeurs élevées dans l'intervalle des longueurs d'onde de l'infrarouge.\n",
        "```\n",
        "Source: https://cms.geobretagne.fr/sites/default/files/documents/fiches_2_comprendre_une_image_satellitaire_1.pdf page 6/10\n",
        "\n",
        ".\n",
        "\n",
        "\n",
        "Nous allons donc regarder s'il existe une corrélation entre la *classe 5 : Sol avec des chaumes de végétation* et les niveaux de réfletance associés\n"
      ]
    },
    {
      "cell_type": "code",
      "metadata": {
        "id": "hoM8u07OUu06"
      },
      "source": [
        "# On créé un dataframe avec seulement les images qui ont été classées comme sol avec des chaumes de végétation\n",
        "df_vegetation = satellites_images[satellites_images.Y == 5]\n",
        "#type(df_vegetation)"
      ],
      "execution_count": 29,
      "outputs": []
    },
    {
      "cell_type": "markdown",
      "metadata": {
        "id": "VGVwaPWAW74v"
      },
      "source": [
        "Dans la documentation du dataset, on peut lire \n",
        "\n",
        "```\n",
        "Pour chaque ligne du dataframe, les quatre valeurs \n",
        "spectrales pour le pixel supérieur gauche sont données en \n",
        "premier, suivies des quatre valeurs spectrales pour le \n",
        "pixel supérieur moyen et ensuite de celles pour le pixel \n",
        "supérieur droit, et ainsi de suite avec les pixels lus en \n",
        "séquence de gauche à droite et de haut en bas.\n",
        "\n",
        "```\n",
        "Autrement dit, pour reformer une image 3*3 pixels d'une même bande spectrale, en premier celle proche du vert, il faut la valeur de la colonne '1' puis '5' puis '9', '13', '17', '21', '25', '29' et enfin '33'. \n",
        "\n",
        "\n",
        "\n"
      ]
    },
    {
      "cell_type": "code",
      "metadata": {
        "colab": {
          "base_uri": "https://localhost:8080/"
        },
        "id": "RDhw6vWXX8dI",
        "outputId": "5292887a-5942-4ae9-db5f-611189062c49"
      },
      "source": [
        "col1 = []\n",
        "for i in range(1,37,4):\n",
        "    i = str(i)\n",
        "    col1.append(i)  \n",
        "#print(col1)\n",
        "\n",
        "df1 = df_vegetation.loc[:,col1]\n",
        "print(df1)"
      ],
      "execution_count": 30,
      "outputs": [
        {
          "output_type": "stream",
          "text": [
            "       1   5   9  13  17  21  25  29  33\n",
            "42    80  76  68  80  71  60  79  79  75\n",
            "43    76  68  60  71  60  56  79  75  75\n",
            "44    60  64  80  56  71  80  75  84  84\n",
            "49    68  64  57  68  60  53  67  59  55\n",
            "50    64  57  53  60  53  53  59  55  55\n",
            "...   ..  ..  ..  ..  ..  ..  ..  ..  ..\n",
            "4426  56  53  56  59  59  59  59  63  59\n",
            "4427  53  56  60  59  59  63  63  59  59\n",
            "4428  60  56  64  63  59  67  59  63  66\n",
            "4429  56  64  68  59  67  67  63  66  66\n",
            "4430  64  68  71  67  67  75  66  66  63\n",
            "\n",
            "[470 rows x 9 columns]\n"
          ],
          "name": "stdout"
        }
      ]
    },
    {
      "cell_type": "markdown",
      "metadata": {
        "id": "0X3VNlEvbE7F"
      },
      "source": [
        "On construit de même le dataframe df2 qui correspond aux images associées à la bande spectrale proche du rouge"
      ]
    },
    {
      "cell_type": "code",
      "metadata": {
        "id": "_WzzvJmoWxng"
      },
      "source": [
        "col2 = []\n",
        "for i in range(2,37,4):\n",
        "    i = str(i)\n",
        "    col2.append(i)  \n",
        "\n",
        "df2 = df_vegetation.loc[:,col2]\n",
        "#print(df2)"
      ],
      "execution_count": 31,
      "outputs": []
    },
    {
      "cell_type": "markdown",
      "metadata": {
        "id": "JOv5W12Jbl80"
      },
      "source": [
        "df3 et df4 correspondent aux bandes spectrales proches de l'infrarouge"
      ]
    },
    {
      "cell_type": "code",
      "metadata": {
        "id": "uwsvwv2TaROk"
      },
      "source": [
        "col3 = []\n",
        "for i in range(3,37,4):\n",
        "    i = str(i)\n",
        "    col3.append(i)  \n",
        "\n",
        "df3 = df_vegetation.loc[:,col3]\n",
        "#print(df3)"
      ],
      "execution_count": 32,
      "outputs": []
    },
    {
      "cell_type": "code",
      "metadata": {
        "id": "PrTpUyAaaZYl"
      },
      "source": [
        "col4 = []\n",
        "for i in range(4,37,4):\n",
        "    i = str(i)\n",
        "    col4.append(i)  \n",
        "\n",
        "df4 = df_vegetation.loc[:,col4]\n",
        "#print(df4)"
      ],
      "execution_count": 33,
      "outputs": []
    },
    {
      "cell_type": "markdown",
      "metadata": {
        "id": "YPDaONM3cD7I"
      },
      "source": [
        "On veut vérifier, maintenant que les images sont séparées par bandes spectrales, que df1 et df2 ont des valeurs de reflectance basses et que df3 et df4 ont des valeurs de reflectance élevées. "
      ]
    },
    {
      "cell_type": "code",
      "metadata": {
        "colab": {
          "base_uri": "https://localhost:8080/"
        },
        "id": "3LpTlygoO9l5",
        "outputId": "f41af4ee-fdeb-4f36-d9fc-0712bf13c9e8"
      },
      "source": [
        "#Le pixel moyen de la classe végétation vaut 67\n",
        "avg_general = df_vegetation.mean()\n",
        "avg_general = avg_general.mean()\n",
        "print(avg_general)"
      ],
      "execution_count": 34,
      "outputs": [
        {
          "output_type": "stream",
          "text": [
            "67.78999424956871\n"
          ],
          "name": "stdout"
        }
      ]
    },
    {
      "cell_type": "code",
      "metadata": {
        "colab": {
          "base_uri": "https://localhost:8080/"
        },
        "id": "i8pvVD-aaKxc",
        "outputId": "b9cd2a40-43c3-4d58-ce37-1e23d154234b"
      },
      "source": [
        "avg1 = df1.mean().mean()\n",
        "avg2 = df2.mean().mean()\n",
        "\n",
        "print(avg1,avg2)"
      ],
      "execution_count": 35,
      "outputs": [
        {
          "output_type": "stream",
          "text": [
            "60.232624113475175 63.43191489361701\n"
          ],
          "name": "stdout"
        }
      ]
    },
    {
      "cell_type": "code",
      "metadata": {
        "colab": {
          "base_uri": "https://localhost:8080/"
        },
        "id": "mYr7PWEVdATb",
        "outputId": "39861e0a-b9f4-4945-e13a-a1542ce52f82"
      },
      "source": [
        "avg3 = df3.mean().mean()\n",
        "avg4 = df4.mean().mean()\n",
        "\n",
        "print(avg3,avg4)"
      ],
      "execution_count": 36,
      "outputs": [
        {
          "output_type": "stream",
          "text": [
            "83.80141843971631 70.67068557919622\n"
          ],
          "name": "stdout"
        }
      ]
    },
    {
      "cell_type": "code",
      "metadata": {
        "colab": {
          "base_uri": "https://localhost:8080/"
        },
        "id": "SOYoOFVua-8P",
        "outputId": "7e56e978-10e2-44fa-acac-bd7540564f32"
      },
      "source": [
        "#Variation de la reflectance sur la bande spectrale rouge \n",
        "var1 = int(((avg1-avg_general)/avg_general)*100)\n",
        "#Variation de la reflectance sur la bande spectrale verte\n",
        "var2 = int(((avg2-avg_general)/avg_general)*100)\n",
        "#Variation de la reflectance sur la bande spectrale infra-rouge 1\n",
        "var3 = int(((avg3-avg_general)/avg_general)*100)\n",
        "#Variation de la reflectance sur la bande spectrale infra-rouge 2\n",
        "var4 = int(((avg4-avg_general)/avg_general)*100)\n",
        "print(var1, var2, var3, var4)"
      ],
      "execution_count": 37,
      "outputs": [
        {
          "output_type": "stream",
          "text": [
            "-11 -6 23 4\n"
          ],
          "name": "stdout"
        }
      ]
    },
    {
      "cell_type": "code",
      "metadata": {
        "id": "HEX4PVFye3wr"
      },
      "source": [
        "#x = np.array(list(\"1234\"))\n",
        "x= [\"Proche vert\", \"Proche rouge\", \"Proche infrarouge\", \"Proche infrarouge 2\"]\n",
        "y1 = [var1, var2, var3, var4]"
      ],
      "execution_count": 38,
      "outputs": []
    },
    {
      "cell_type": "code",
      "metadata": {
        "colab": {
          "base_uri": "https://localhost:8080/",
          "height": 350
        },
        "id": "OjUSNMMYesnK",
        "outputId": "5542cab9-fc6b-4aad-d682-d535343656ee"
      },
      "source": [
        "# Set up the matplotlib figure\n",
        "f, (ax) = plt.subplots(1, 1, figsize=(7, 5), sharex=True)\n",
        "\n",
        "# Create an array with the colors you want to use\n",
        "colors = [\"#2ECC71\",\"#F30C0C\", \"#F5B7B1\", \"#FADBD8\"]\n",
        "# Set your custom color palette\n",
        "sns.set_palette(sns.color_palette(colors))\n",
        "\n",
        "sns.barplot(x=x, y=y1, palette=colors, ax=ax)\n",
        "ax.axhline(0, color=\"k\", clip_on=False)\n",
        "ax.set_ylabel(\"Diverging\")\n",
        "\n",
        "# Customize the axes and title\n",
        "ax.set_title(\"Variation de la reflectance en fonction des bandes spectrales sur des sols type végétation\")\n",
        "ax.set_xlabel(\"Type de bande spectrale\")\n",
        "ax.set_ylabel(\"% variation par rapport à la moyenne\")\n",
        "\n",
        "# Remove top and right borders\n",
        "ax.spines['top'].set_visible(False)\n",
        "ax.spines['right'].set_visible(False)\n",
        "\n",
        "#plt.show()"
      ],
      "execution_count": 40,
      "outputs": [
        {
          "output_type": "display_data",
          "data": {
            "image/png": "[encoded data removed]",
            "text/plain": [
              "<Figure size 504x360 with 1 Axes>"
            ]
          },
          "metadata": {
            "tags": [],
            "needs_background": "light"
          }
        }
      ]
    },
    {
      "cell_type": "markdown",
      "metadata": {
        "id": "LhWPhc8y8LR1"
      },
      "source": [
        "Ce résultat vérifie bien l'hypothèse énoncée par le site CMS - GéoBretagne. \n",
        "\n",
        "Pour un sol avec de la végétation comme la classe 5 : sol avec des chaumes de végétation, on obtient des valeurs de réfléctances basses pour les bandes spectrales proches du vert et du rouge et des valeurs élevées pour des bandes spectrales proche de l'infrarouge.\n",
        "\n",
        "Il y a bien une cohérence entre le type de sol photographié et sa reflectance.  "
      ]
    },
    {
      "cell_type": "markdown",
      "metadata": {
        "id": "qo_jJUgP_VHK"
      },
      "source": [
        "## III. Affichage des quatre variantes d'image"
      ]
    },
    {
      "cell_type": "code",
      "metadata": {
        "id": "JgIRni1Uf7Xm"
      },
      "source": [
        "p1 = df1.loc[42].values\n",
        "p2 = df2.loc[42].values\n",
        "p3 = df3.loc[42].values\n",
        "p4 = df4.loc[42].values\n",
        "\n",
        "# Réorganisation des données en trois colonnes\n",
        "img1 = p1.reshape(3,3)\n",
        "img2 = p2.reshape(3,3)\n",
        "img3 = p3.reshape(3,3)\n",
        "img4 = p4.reshape(3,3)"
      ],
      "execution_count": null,
      "outputs": []
    },
    {
      "cell_type": "code",
      "metadata": {
        "colab": {
          "base_uri": "https://localhost:8080/",
          "height": 173
        },
        "id": "scfxpST5ESy7",
        "outputId": "501a2a69-f8c8-491b-fcd1-487cdb816baa"
      },
      "source": [
        "w = 10\n",
        "h = 10\n",
        "fig = plt.figure(figsize=(9, 13))\n",
        "columns = 4\n",
        "rows = 1\n",
        "\n",
        "# ax enables access to manipulate each of subplots\n",
        "ax = []\n",
        "dico = { 1: img1, 2: img2, 3: img3, 4: img4}\n",
        "\n",
        "for i in range(columns*rows):\n",
        "    # create subplot and append to ax\n",
        "    ax.append( fig.add_subplot(rows, columns, i+1) )\n",
        "    ax[-1].set_title(\"image \"+str(i))  # set title\n",
        "    plt.imshow(dico[i+1], cmap='gray', vmin=0, vmax=255)"
      ],
      "execution_count": null,
      "outputs": [
        {
          "output_type": "display_data",
          "data": {
            "image/png": "[encoded data removed]",
            "text/plain": [
              "<Figure size 648x936 with 4 Axes>"
            ]
          },
          "metadata": {
            "tags": [],
            "needs_background": "light"
          }
        }
      ]
    },
    {
      "cell_type": "markdown",
      "metadata": {
        "id": "xByu9jB-JS-n"
      },
      "source": [
        "Sur un même sol, les quatre images sont différentes dûes à leur différence de bande spectrale."
      ]
    },
    {
      "cell_type": "markdown",
      "metadata": {
        "id": "nDV6XTAb_lXc"
      },
      "source": [
        ""
      ]
    },
    {
      "cell_type": "markdown",
      "metadata": {
        "id": "XlB3tVnd_s5O"
      },
      "source": [
        "# Partie-Machine-Learning"
      ]
    },
    {
      "cell_type": "code",
      "metadata": {
        "id": "WUkrwz0t_w7W"
      },
      "source": [
        "import numpy as np \n",
        "import pandas as pd \n",
        "import matplotlib.pyplot as plt\n",
        "import tensorflow        as tf\n",
        "from tensorflow              import keras\n",
        "from tensorflow.keras.models import Sequential\n",
        "from tensorflow.keras.layers import Dense, Activation\n",
        "from sklearn.naive_bayes import GaussianNB\n",
        "from sklearn.neighbors import NearestNeighbors\n",
        "from sklearn import svm\n",
        "from sklearn import neighbors"
      ],
      "execution_count": 41,
      "outputs": []
    },
    {
      "cell_type": "markdown",
      "metadata": {
        "id": "zORL5zj8ARAd"
      },
      "source": [
        "## I. Préparation des données"
      ]
    },
    {
      "cell_type": "code",
      "metadata": {
        "id": "k5d4jD-gAO80"
      },
      "source": [
        "#Importation des fichiers de train et de tests\n",
        "satellites_images_train = pd.read_csv(\"sat_train.csv\", sep=' ')\n",
        "satellites_images_test = pd.read_csv(\"sat_test.csv\", sep=' ')\n",
        "\n",
        "#Création des colonnes\n",
        "satellites_images_train.columns =['1','2','3','4','5','6','7','8','9','10','11','12','13','14','15','16','17','18','19','20','21','22','23','24','25','26','27','28','29','30','31','32','33','34','35','36','Y'] \n",
        "satellites_images_test.columns =['1','2','3','4','5','6','7','8','9','10','11','12','13','14','15','16','17','18','19','20','21','22','23','24','25','26','27','28','29','30','31','32','33','34','35','36','Y'] "
      ],
      "execution_count": null,
      "outputs": []
    },
    {
      "cell_type": "code",
      "metadata": {
        "id": "m_oKG0WTAaJs"
      },
      "source": [
        "#Affichage du nombres de lignes dans chaque fichier\n",
        "print(\"Nombre de lignes dans le train set : \" + str(satellites_images_train.shape[0]))\n",
        "print(\"Nombre de lignes dans le test set : \" + str(satellites_images_test.shape[0]))"
      ],
      "execution_count": null,
      "outputs": []
    },
    {
      "cell_type": "code",
      "metadata": {
        "id": "Eac391IOAhFq"
      },
      "source": [
        "#Séparation des valeurs d'entrées et de sorties dans nos 2 fichiers\n",
        "x_train = satellites_images_train.iloc[:,0:-1]\n",
        "y_train = satellites_images_train.iloc[:,-1:]\n",
        "\n",
        "x_test = satellites_images_test.iloc[:,0:-1]\n",
        "y_test = satellites_images_test.iloc[:,-1:]\n",
        "\n",
        "#Normalisation des valeurs d'entrées\n",
        "x_train_normalized = x_train / 255.0\n",
        "x_test_normalized = x_test / 255.0"
      ],
      "execution_count": null,
      "outputs": []
    },
    {
      "cell_type": "markdown",
      "metadata": {
        "id": "UzurSpCJAkPe"
      },
      "source": [
        "## II. Utilisation de tensorflow"
      ]
    },
    {
      "cell_type": "code",
      "metadata": {
        "id": "-U96Ot7bAltg"
      },
      "source": [
        "# Utilisation de tensorflow pour déterminer un modele\n",
        "model = tf.keras.Sequential([\n",
        "    tf.keras.layers.Flatten(input_shape=(36,)),\n",
        "    tf.keras.layers.Dense(128, activation='relu'),\n",
        "    tf.keras.layers.Dense(8)\n",
        "])\n",
        "\n",
        "model.compile(optimizer='adam',\n",
        "              loss=tf.keras.losses.SparseCategoricalCrossentropy(from_logits=True),\n",
        "              metrics=['accuracy'])"
      ],
      "execution_count": null,
      "outputs": []
    },
    {
      "cell_type": "code",
      "metadata": {
        "id": "1ZZDM60oAm20"
      },
      "source": [
        "#On entraine notre modele tensorflow\n",
        "model.fit(x_train_normalized, y_train, epochs=100,batch_size=500)"
      ],
      "execution_count": null,
      "outputs": []
    },
    {
      "cell_type": "code",
      "metadata": {
        "id": "TqaCVWDgAsIH"
      },
      "source": [
        "\n",
        "test_loss, test_acc = model.evaluate(x_test_normalized, y_test, verbose=2)\n",
        "\n",
        "# Affichage de l'accuracy de notre model avec notre jeu de test\n",
        "print('Accuracy de notre modele sur notre jeu de test:', test_acc)"
      ],
      "execution_count": null,
      "outputs": []
    },
    {
      "cell_type": "code",
      "metadata": {
        "id": "CU8R7tszAwwb"
      },
      "source": [
        "# Résultat des prédictions sur notre fichier de tests\n",
        "predictions = model.predict(x_test_normalized)"
      ],
      "execution_count": null,
      "outputs": []
    },
    {
      "cell_type": "code",
      "metadata": {
        "id": "9vi2O88SAyiL"
      },
      "source": [
        "#Prédiction de notre premiere ligne\n",
        "predictions[0]"
      ],
      "execution_count": null,
      "outputs": []
    },
    {
      "cell_type": "code",
      "metadata": {
        "id": "HKhqaJXXAzFS"
      },
      "source": [
        "class_names = ['red soil', 'cotton crop', 'grey soil', 'damp grey soil', 'soil with vegetation stubble',\n",
        "               'mixture class (all types present)', 'very damp grey soil']"
      ],
      "execution_count": null,
      "outputs": []
    },
    {
      "cell_type": "markdown",
      "metadata": {
        "id": "bAa6fHuKBHwU"
      },
      "source": [
        "## III. Utilisation de Nearest Neighbors (KNN)"
      ]
    },
    {
      "cell_type": "code",
      "metadata": {
        "id": "NjwHxyWtBJ8D"
      },
      "source": [
        "# Determinination des meilleurs paramètres pour KNN\n",
        "from sklearn.neighbors import KNeighborsClassifier\n",
        "score_max = 0\n",
        "best_n_neighbors = 0\n",
        "for i in range(1,36) :\n",
        "    KNN = KNeighborsClassifier(n_neighbors=i, algorithm='auto')\n",
        "    model = KNN.fit(x_train, y_train)\n",
        "    score = model.score(x_test,y_test)\n",
        "    if score > score_max :\n",
        "        score_max = score\n",
        "        best_n_neighbors = i\n",
        " \n",
        "#Affichage du best score avec les meilleurs paramètres :\n",
        "print(\"score max : \" + str(score_max) + \" avec n_neighbors = \" + str(i))"
      ],
      "execution_count": null,
      "outputs": []
    },
    {
      "cell_type": "code",
      "metadata": {
        "id": "H1hAVPrjBOeX"
      },
      "source": [
        "KNN = KNeighborsClassifier(n_neighbors=35, algorithm='auto')\n",
        "KNN_model = KNN.fit(x_train, y_train)\n",
        "\n",
        "# Determination du pourcentage de certitude\n",
        "row = 12\n",
        "class_names = ['red soil', 'cotton crop', 'grey soil', 'damp grey soil', 'soil with vegetation stubble',\n",
        "                'very damp grey soil','truc']\n",
        "\n",
        "predict_proba = KNN_model.predict_proba(x_test[row-1:row])\n",
        "print(\"Pourcentage de certitude pour la ligne \" + str(row) + \" :\" )\n",
        "for i in range(6) :\n",
        "    print(\"    Pour \" + class_names[i] + \" : \" + str(predict_proba[0,i]*100) + \"%\")"
      ],
      "execution_count": null,
      "outputs": []
    },
    {
      "cell_type": "markdown",
      "metadata": {
        "id": "mm08xdAXBaA-"
      },
      "source": [
        "## IV. Utilisation de SVM"
      ]
    },
    {
      "cell_type": "code",
      "metadata": {
        "id": "dN7MHuAoBXFx"
      },
      "source": [
        "def svm_grid_search(df, Y):\n",
        "    \"\"\"\n",
        "    Réglage des hyper-paramètres du classifieur Support Vector Machine\n",
        "    Notamment : 'C', 'kernel' et 'gamma'\n",
        "    \"\"\"\n",
        "    import sys\n",
        "    from sklearn.model_selection   import GridSearchCV\n",
        "    from sklearn.svm               import SVC\n",
        "    import pickle\n",
        "    parameters = {  \"C\"              : [1.0, 0.5,0.1],# 2]                , \n",
        "                    \"kernel\"         : ['rbf', 'poly', 'sigmoid'],#        ,\n",
        "                    \"degree\"         : [2],# , 3, 4,5,6                    , \n",
        "                    \"gamma\"          : [0.01],#, 0.1, 0.001, 0.5]           , \n",
        "                    \"coef0\"          : [0.0]                             , \n",
        "                    \"shrinking\"      : [True]                            , \n",
        "                    \"probability\"    : [True,False]                            , \n",
        "                    \"tol\"            : [0.001]                           , \n",
        "                    \"cache_size\"     : [10]                              , \n",
        "                    \"class_weight\"   : [None]                            , \n",
        "                    \"verbose\"        : [False]                           , \n",
        "                    \"max_iter\"       : [-1]                              , \n",
        "                    \"random_state\"   : [None]                            }\n",
        "   \n",
        "    \n",
        "    \n",
        "    print (\"-\"*30, \"\\n svm_grid_search\"); sys.stdout.flush()\n",
        "    \n",
        "    \"\"\"\n",
        "        Search Grid\n",
        "    \"\"\"\n",
        "    grid    = GridSearchCV(SVC(), parameters, verbose=0, scoring='f1_weighted')\n",
        "    try :grid.fit(df, Y)\n",
        "    except Exception as e : \n",
        "        print (\"[svm_grid_search - 2] : %s\"%e) ; \n",
        "        print (\"x_train,  y_train : \", x_train, y_train)\n",
        "\n",
        "    print (\" best_score_ = %.2f with =  %s \"%(grid.best_score_, grid.best_estimator_ ) ); sys.stdout.flush()    \n",
        "    \n",
        "    cv_results = pd.DataFrame(grid.cv_results_)\n",
        "    print(cv_results.iloc[grid.best_index_])\n",
        "    \n",
        "    return grid.best_estimator_"
      ],
      "execution_count": null,
      "outputs": []
    },
    {
      "cell_type": "code",
      "metadata": {
        "id": "iIdjMYNnBXPb"
      },
      "source": [
        "#Determination du meilleur algorithme pour SVM\n",
        "\n",
        "svm = svm_grid_search(x_train,y_train.values)"
      ],
      "execution_count": null,
      "outputs": []
    },
    {
      "cell_type": "code",
      "metadata": {
        "id": "KYWCwfI-Bi_j"
      },
      "source": [
        "SVN = svm.SVC(decision_function_shape='ovo')\n",
        "SVN_model = SVN.fit(x_train,y_train)\n",
        "SVN_score = SVN_model.score(x_test,y_test)\n",
        "print(\"Score du classifier Support Vector Machine :\", SVN_score)"
      ],
      "execution_count": null,
      "outputs": []
    },
    {
      "cell_type": "markdown",
      "metadata": {
        "id": "2qMGdu60Bna0"
      },
      "source": [
        "## V. Utilisation de Naive Bayers Classifier"
      ]
    },
    {
      "cell_type": "code",
      "metadata": {
        "id": "CplSFjhGBpap"
      },
      "source": [
        "algo   = GaussianNB()\n",
        "modele = algo.fit(x_train, y_train)\n",
        "score = modele.score(x_test, y_test)\n",
        "print(\"Accuracy de notre model GaussianNB sur notre jeu de test : \" + str(score))"
      ],
      "execution_count": null,
      "outputs": []
    },
    {
      "cell_type": "markdown",
      "metadata": {
        "id": "iwNx13y1Bw14"
      },
      "source": [
        "# API Django"
      ]
    },
    {
      "cell_type": "markdown",
      "metadata": {
        "id": "JxOYyaHMB0Al"
      },
      "source": [
        "## Création du fichier pickle pour l'API Django"
      ]
    },
    {
      "cell_type": "code",
      "metadata": {
        "id": "g0xqSHgSBrx0"
      },
      "source": [
        "#On choisi le modèle que l'on souhaite utiliser\n",
        "#On choisi KNN car c'est celui qui a eu le plus haut accuracy\n",
        "KNN = KNeighborsClassifier(n_neighbors=35, algorithm='auto')\n",
        "KNN_model = KNN.fit(x_train, y_train)"
      ],
      "execution_count": null,
      "outputs": []
    },
    {
      "cell_type": "code",
      "metadata": {
        "id": "6T5PgxvrB7aL"
      },
      "source": [
        "import pickle\n",
        "pickle.dump(KNN_model, open('final_prediction.pickle', 'wb'))"
      ],
      "execution_count": null,
      "outputs": []
    },
    {
      "cell_type": "code",
      "metadata": {
        "id": "gDXvhjEHB7c5"
      },
      "source": [
        "# Lancer la cellule une fois l'environnement Flask lancé\n",
        "import requests\n",
        "import json\n",
        "\n",
        "url = 'http://localhost:5000/api/'\n",
        "\n",
        "data = [[80, 102, 102, 79, 76, 102, 102, 79, 76, 102, 106, 83, 76, 99, 108, 85, 76, 103, 118, 88, 80, 107, 118, 88, 79, 107, 109, 87, 79, 107, 109, 87, 79, 107, 113, 87,]]\n",
        "j_data = json.dumps(data)\n",
        "headers = {'content-type': 'application/json', 'Accept-Charset': 'UTF-8'}\n",
        "r = requests.post(url, data=j_data, headers=headers)\n",
        "print(r, r.text)"
      ],
      "execution_count": null,
      "outputs": []
    }
  ]
}